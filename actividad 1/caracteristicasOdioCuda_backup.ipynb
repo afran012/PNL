{
 "cells": [
  {
   "cell_type": "markdown",
   "metadata": {},
   "source": [
    "**Universidad Internacional de La Rioja (UNIR) - M\u00e1ster Universitario en Inteligencia Artificial - Procesamiento del Lenguaje Natural** "
   ]
  },
  {
   "cell_type": "markdown",
   "metadata": {},
   "source": [
    "***\n",
    "Datos del alumno (Nombre y Apellidos):\n",
    "\n",
    "Fecha:\n",
    "***"
   ]
  },
  {
   "cell_type": "markdown",
   "metadata": {},
   "source": [
    "<span style=\"font-size: 20pt; font-weight: bold; color: #0098cd;\">Trabajo: Named-Entity Recognition</span>\n",
    "\n",
    "**Objetivos** \n",
    "\n",
    "Con esta actividad se tratar\u00e1 de que el alumno se familiarice con el manejo de la librer\u00eda spacy, as\u00ed como con los conceptos b\u00e1sicos de manejo de las t\u00e9cnicas NER\n",
    "\n",
    "**Descripci\u00f3n**\n",
    "\n",
    "En esta actividad debes procesar de forma autom\u00e1tica un texto en lenguaje natural para detectar caracter\u00edsticas b\u00e1sicas en el mismo, y para identificar y etiquetar las ocurrencias de conceptos como localizaci\u00f3n, moneda, empresas, etc.\n",
    "\n",
    "En la primera parte del ejercicio se proporciona un c\u00f3digo fuente a trav\u00e9s del cual se lee un archivo de texto y se realiza un preprocesado del mismo. En esta parte el alumno tan s\u00f3lo debe ejecutar y entender el c\u00f3digo proporcionado.\n",
    "\n",
    "En la segunda parte del ejercicio se plantean una serie de preguntas que deben ser respondidas por el alumno. Cada pregunta deber\u00e1 responderse con un fragmento de c\u00f3digo fuente que est\u00e9 acompa\u00f1ado de la explicaci\u00f3n correspondiente. Para elaborar el c\u00f3digo solicitado, el alumno deber\u00e1 visitar la documentaci\u00f3n de la librer\u00eda spacy, cuyos enlaces se proporcionar\u00e1n donde corresponda."
   ]
  },
  {
   "cell_type": "markdown",
   "metadata": {},
   "source": [
    "# Parte 1: carga y preprocesamiento del texto a analizar"
   ]
  },
  {
   "cell_type": "markdown",
   "metadata": {},
   "source": [
    "Observa las diferentes librer\u00edas que se est\u00e1n importando."
   ]
  },
  {
   "cell_type": "code",
   "execution_count": 2,
   "metadata": {},
   "outputs": [],
   "source": [
    "import pathlib\n",
    "import spacy\n",
    "import pandas as pd\n",
    "from spacy import displacy\n",
    "import csv\n",
    "import es_core_news_md"
   ]
  },
  {
   "cell_type": "markdown",
   "metadata": {},
   "source": [
    "El siguiente c\u00f3digo simplemente carga y preprocesa el texto. Para ello, lo primero que hace es cargar un modelo de lenguaje previamente entrenado. En este caso, se utiliza <i>es_core_news_md</i>: \n",
    "\n",
    "https://spacy.io/models/es#es_core_news_md\n"
   ]
  },
  {
   "cell_type": "code",
   "execution_count": 3,
   "metadata": {},
   "outputs": [],
   "source": [
    "nlp = es_core_news_md.load()"
   ]
  },
  {
   "cell_type": "markdown",
   "metadata": {},
   "source": [
    "El objeto <i>nlp</i> permite utilizar el modelo de lenguaje cargado, de forma que se puede procesar un texto y obtenerlo en su versi\u00f3n preprocesada. As\u00ed, nos permite realizar las diferentes tareas. En este caso, vamos a utilizar el pipeline para hacer un preprocesamiento b\u00e1sico, que consiste en tokenizar el texto."
   ]
  },
  {
   "cell_type": "code",
   "execution_count": 4,
   "metadata": {},
   "outputs": [],
   "source": [
    "filename = \"./02Dataset_sin_procesar.csv\"\n",
    "lines_number = 20\n",
    "# data = pd.read_csv(filename, delimiter=';') \n",
    "# data = pd.read_csv(filename, delimiter=';', encoding='latin-1')   \n",
    "data = pd.read_csv(filename, delimiter=';', encoding='latin-1' ,nrows=lines_number)  "
   ]
  },
  {
   "cell_type": "markdown",
   "metadata": {},
   "source": [
    "El c\u00f3digo anterior carga el archivo CSV (opcionalmente con un l\u00edmite de l\u00edneas a leer) y genera la variable <i>data</i>, que contiene un Dataframe (https://pandas.pydata.org/docs/reference/api/pandas.DataFrame.html) con los datos le\u00eddos del CSV."
   ]
  },
  {
   "cell_type": "markdown",
   "metadata": {},
   "source": [
    "Te vendr\u00e1 bien conocer la siguiente documentaci\u00f3n:\n",
    "<ul>\n",
    "    <li>https://spacy.io/api/doc</li>\n",
    "    <li>https://spacy.io/api/token</li>\n",
    "    <li>https://spacy.io/api/morphology#morphanalysis</li>\n",
    "</ul>"
   ]
  },
  {
   "cell_type": "markdown",
   "metadata": {},
   "source": [
    "### Playground\n",
    "\n",
    "Utiliza este espacio para hacer pruebas y ensayos con las variables generadas con el c\u00f3digo previo. A modo de ejemplo, se ofrece c\u00f3digo que realiza las siguientes tareas: \n",
    "\n",
    "\n",
    "- leer un n\u00famero dado de l\u00edneas del Dataframe y generar dos listas con los valores (se pueden leer directamente del DataFrame, se muestra el ejemplo como una opci\u00f3n m\u00e1s)\n",
    "- procesar el texto de cada comentario\n",
    "\n",
    "\n",
    "Para procesarlo, hay utilizar el objeto <i>nlp</i> y as\u00ed obtener objetos de la clase <i>Doc</i> (https://spacy.io/api/doc)\n",
    "\n",
    "Visita la documentaci\u00f3n de dicha clase y experimenta probando las diferentes funciones y atributos "
   ]
  },
  {
   "cell_type": "code",
   "execution_count": 5,
   "metadata": {},
   "outputs": [
    {
     "name": "stdout",
     "output_type": "stream",
     "text": [
      "el\n",
      "real\n",
      "madrid\n",
      "ha\n",
      "puesto\n",
      "punto\n",
      "y\n",
      "final\n",
      "a\n",
      "su\n",
      "andadura\n",
      "en\n",
      "la\n",
      "copa\n",
      "del\n",
      "rey\n",
      "en\n",
      "el\n",
      "primer\n",
      "escal\u00c3\u00b3n\n",
      ".\n",
      "los\n",
      "de\n",
      "zidane\n",
      "han\n",
      "ca\u00c3\u00addo\n",
      "ante\n",
      "el\n",
      "alcoyano\n",
      ",\n",
      "de\n",
      "segunda\n",
      "b\n",
      ",\n",
      "a\n",
      "pesar\n",
      "de\n",
      "empezar\n",
      "ganando\n",
      "y\n",
      "jugar\n",
      "con\n",
      "un\n",
      "hombre\n",
      "menos\n",
      "en\n",
      "la\n",
      "pr\u00c3\u00b3rroga\n",
      ".\n",
      "el\n",
      "t\u00c3\n",
      "\u00a9\n",
      "cnico\n",
      "franc\u00c3\n",
      "\u00a9\n",
      "s\n",
      "dispuso\n",
      "un\n",
      "equipo\n",
      "plagado\n",
      "de\n",
      "los\n",
      "menos\n",
      "habituales\n",
      ",\n",
      "con\n",
      "vinicius\n",
      "y\n",
      "mariano\n",
      "en\n",
      "ataque\n",
      ".\n",
      "ninguno\n",
      "de\n",
      "los\n",
      "dos\n",
      "logr\u00c3\u00b3\n",
      "crear\n",
      "ocasiones\n",
      ".\n",
      "fue\n",
      "militao\n",
      "el\n",
      "que\n",
      "marc\u00c3\u00b3\n",
      "el\n",
      "gol\n",
      "del\n",
      "madrid\n",
      ",\n",
      "justo\n",
      "antes\n",
      "del\n",
      "descanso\n",
      ".\n",
      "en\n",
      "la\n",
      "segunda\n",
      "parte\n",
      "intentaron\n",
      "cerrar\n",
      "el\n",
      "partido\n",
      ",\n",
      "pero\n",
      "sin\n",
      "el\n",
      "colmillo\n",
      "suficiente\n",
      "y\n",
      "el\n",
      "modesto\n",
      "alcoyano\n",
      "aprovech\u00c3\u00b3\n",
      "un\n",
      "c\u00c3\u00b3rner\n",
      "para\n",
      "empatar\n",
      "el\n",
      "partido\n",
      "a\n",
      "cinco\n",
      "minutos\n",
      "para\n",
      "el\n",
      "final\n",
      ".\n",
      "el\n",
      "empate\n",
      "sent\u00c3\u00b3\n",
      "como\n",
      "un\n",
      "jarro\n",
      "de\n",
      "agua\n",
      "fr\u00c3\u00ada\n",
      "a\n",
      "los\n",
      "blancos\n",
      ",\n",
      "que\n",
      "lo\n",
      "intentaron\n",
      "en\n",
      "el\n",
      "tiempo\n",
      "extra\n",
      "a\n",
      "falta\n",
      "de\n",
      "cinco\n",
      "minutos\n",
      ",\n",
      "el\n",
      "casanova\n",
      "consigui\u00c3\u00b3\n",
      "el\n",
      "gol\n",
      "m\u00c3\u00a1s\n",
      "importante\n",
      "de\n",
      "su\n",
      "vida\n",
      ",\n",
      "que\n",
      "vale\n",
      "la\n",
      "clasificaci\u00c3\u00b3n\n",
      "para\n",
      "octavos\n",
      "de\n",
      "la\n",
      "copa\n",
      ".\n",
      "el\n",
      "madrid\n",
      "de\n",
      "zidane\n",
      "queda\n",
      "apeado\n",
      "del\n",
      "torneo\n",
      "una\n",
      "vez\n",
      "m\u00c3\u00a1s\n",
      ",\n",
      "por\n",
      "lo\n",
      "que\n",
      "el\n",
      "franc\u00c3\n",
      "\u00a9\n",
      "s\n",
      "se\n",
      "quedar\u00c3\n",
      "\u00a1\n",
      "sin\n",
      "pelear\n",
      "por\n",
      "el\n",
      "\u00c3\u00banico\n",
      "t\u00c3\u00adtulo\n",
      "que\n",
      "no\n",
      "ha\n",
      "conseguido\n",
      "nunca\n",
      ".\n",
      "as\u00c3\u00ad\n",
      "hemos\n",
      "contado\n",
      "el\n",
      "minuto\n",
      "a\n",
      "minuto\n",
      "del\n",
      "partido\n",
      "en\n",
      "directo\n",
      ":\n"
     ]
    }
   ],
   "source": [
    "# Puedes insertar aqu\u00ed c\u00f3digo de pruebas para experimentar con las diferentes funciones y atributos de 'doc'.\n",
    "#print(data[\"CONTENIDO A ANALIZAR\"][1])\n",
    "#print(data[\"INTENSIDAD\"][1])\n",
    "doc = []\n",
    "value = []\n",
    "\n",
    "#con el bucle, generamos sendas listas con los comentarios ya parseados y con el valor de intensidad\n",
    "for i in range(0, lines_number):\n",
    "    \n",
    "    #en un primer paso se parsea el comentario. En el segundo paso se a\u00f1ade el objeto a la lista\n",
    "    tmp_doc = nlp(data[\"CONTENIDO A ANALIZAR\"][i])\n",
    "    doc.append(tmp_doc)\n",
    "    \n",
    "    #en un primer paso extrae el valor. En el segundo paso se a\u00f1ade el valor a la lista\n",
    "    tmp_value = data[\"INTENSIDAD\"][i]\n",
    "    value.append(tmp_value)\n",
    "\n",
    "\n",
    "#ejemplo de c\u00f3mo recorrer un comentario palabra por palabra    \n",
    "for token in doc[1]:\n",
    "    print(token)"
   ]
  },
  {
   "cell_type": "markdown",
   "metadata": {},
   "source": [
    "<span style=\"font-size: 14pt; font-weight: bold; color: #0098cd;\">Pregunta 1.</span>\n",
    "<span style=\"font-size: 14pt; font-weight: bold; color: #0098cd;\">\u00bfCu\u00e1ntos registros contiene el corpus?</span>"
   ]
  },
  {
   "cell_type": "code",
   "execution_count": 6,
   "metadata": {},
   "outputs": [
    {
     "name": "stdout",
     "output_type": "stream",
     "text": [
      "El corpus contiene 20 registros.\n"
     ]
    },
    {
     "data": {
      "text/plain": [
       "' Explicaci\u00f3n:\\nPara determinar el n\u00famero total de registros en el corpus, utilizamos la funci\u00f3n len() sobre el DataFrame de pandas. Cada fila del DataFrame representa un registro o comentario en nuestro corpus. Esta operaci\u00f3n es muy eficiente ya que pandas almacena internamente la dimensi\u00f3n del DataFrame sin necesidad de recorrer todos los datos. '"
      ]
     },
     "execution_count": 6,
     "metadata": {},
     "output_type": "execute_result"
    }
   ],
   "source": [
    "# Incluye aqu\u00ed el c\u00f3digo generado para poder responder a tu pregunta\n",
    "num_registros = len(data)\n",
    "print(f\"El corpus contiene {num_registros} registros.\")\n",
    "\n",
    "\n",
    "\"\"\" Explicaci\u00f3n:\n",
    "Para determinar el n\u00famero total de registros en el corpus, utilizamos la funci\u00f3n len() sobre el DataFrame de pandas. Cada fila del DataFrame representa un registro o comentario en nuestro corpus. Esta operaci\u00f3n es muy eficiente ya que pandas almacena internamente la dimensi\u00f3n del DataFrame sin necesidad de recorrer todos los datos. \"\"\""
   ]
  },
  {
   "cell_type": "markdown",
   "metadata": {},
   "source": [
    "<b>Incluye aqu\u00ed, debajo de la l\u00ednea, la explicaci\u00f3n de tu respuesta</b>\n",
    "<hr>\n",
    " "
   ]
  },
  {
   "cell_type": "markdown",
   "metadata": {},
   "source": [
    "<span style=\"font-size: 14pt; font-weight: bold; color: #0098cd;\">Pregunta 2.</span>\n",
    "<span style=\"font-size: 14pt; font-weight: bold; color: #0098cd;\">\u00bfCu\u00e1ntas palabras totales hay en los comentarios del corpus?</span>"
   ]
  },
  {
   "cell_type": "code",
   "execution_count": 7,
   "metadata": {},
   "outputs": [
    {
     "name": "stdout",
     "output_type": "stream",
     "text": [
      "El corpus contiene un total de 1351 palabras.\n"
     ]
    },
    {
     "data": {
      "text/plain": [
       "' Explicaci\u00f3n:\\nPara contar el n\u00famero total de palabras, primero necesitamos procesar cada comentario con el modelo de spaCy, que realizar\u00e1 la tokenizaci\u00f3n del texto (divisi\u00f3n en unidades l\u00e9xicas). Para cada documento procesado, filtramos los tokens que no son signos de puntuaci\u00f3n (not token.is_punct) ni espacios (not token.is_space), ya que estos no son considerados palabras. Finalmente, sumamos las longitudes de estas listas filtradas para obtener el total de palabras en todo el corpus. '"
      ]
     },
     "execution_count": 7,
     "metadata": {},
     "output_type": "execute_result"
    }
   ],
   "source": [
    "# Incluye aqu\u00ed el c\u00f3digo generado para poder responder a tu pregunta\n",
    "import spacy\n",
    "import es_core_news_md\n",
    "\n",
    "# Cargamos el modelo de lenguaje espa\u00f1ol de spaCy\n",
    "nlp = es_core_news_md.load()\n",
    "\n",
    "# Procesamos todos los comentarios con spaCy (esto puede tomar tiempo)\n",
    "# Utilizamos una lista de comprensi\u00f3n para procesar cada texto\n",
    "todos_docs = [nlp(texto) for texto in data[\"CONTENIDO A ANALIZAR\"]]\n",
    "\n",
    "# Contamos las palabras (tokens que no sean puntuaci\u00f3n ni espacios)\n",
    "total_palabras = sum(len([token for token in doc if not token.is_punct and not token.is_space]) \n",
    "                    for doc in todos_docs)\n",
    "\n",
    "print(f\"El corpus contiene un total de {total_palabras} palabras.\")\n",
    "\n",
    "\n",
    "\"\"\" Explicaci\u00f3n:\n",
    "Para contar el n\u00famero total de palabras, primero necesitamos procesar cada comentario con el modelo de spaCy, que realizar\u00e1 la tokenizaci\u00f3n del texto (divisi\u00f3n en unidades l\u00e9xicas). Para cada documento procesado, filtramos los tokens que no son signos de puntuaci\u00f3n (not token.is_punct) ni espacios (not token.is_space), ya que estos no son considerados palabras. Finalmente, sumamos las longitudes de estas listas filtradas para obtener el total de palabras en todo el corpus. \"\"\"\n"
   ]
  },
  {
   "cell_type": "markdown",
   "metadata": {},
   "source": [
    "<b>Incluye aqu\u00ed, debajo de la l\u00ednea, la explicaci\u00f3n de tu respuesta</b>\n",
    "<hr>\n",
    " "
   ]
  },
  {
   "cell_type": "markdown",
   "metadata": {},
   "source": [
    "<span style=\"font-size: 14pt; font-weight: bold; color: #0098cd;\">Pregunta 3.</span>\n",
    "<span style=\"font-size: 14pt; font-weight: bold; color: #0098cd;\">\u00bfCu\u00e1l el n\u00famero promedio de palabras en cada comentario?</span>"
   ]
  },
  {
   "cell_type": "code",
   "execution_count": 8,
   "metadata": {},
   "outputs": [
    {
     "name": "stdout",
     "output_type": "stream",
     "text": [
      "El n\u00famero promedio de palabras por comentario es: 67.55\n"
     ]
    },
    {
     "data": {
      "text/plain": [
       "' Explicaci\u00f3n:\\nPara calcular el promedio de palabras por comentario, primero creamos una lista con el n\u00famero de palabras en cada comentario individual. Luego calculamos el promedio dividiendo la suma total de palabras entre el n\u00famero de comentarios. Utilizamos el formato .2f para mostrar el resultado con dos decimales, lo que proporciona una precisi\u00f3n adecuada para esta medida. '"
      ]
     },
     "execution_count": 8,
     "metadata": {},
     "output_type": "execute_result"
    }
   ],
   "source": [
    "# Incluye aqu\u00ed el c\u00f3digo generado para poder responder a tu pregunta\n",
    "# Contamos las palabras en cada comentario\n",
    "palabras_por_comentario = [len([token for token in doc if not token.is_punct and not token.is_space]) \n",
    "                          for doc in todos_docs]\n",
    "\n",
    "# Calculamos el promedio\n",
    "promedio_palabras = sum(palabras_por_comentario) / len(palabras_por_comentario)\n",
    "\n",
    "print(f\"El n\u00famero promedio de palabras por comentario es: {promedio_palabras:.2f}\")\n",
    "\n",
    "\"\"\" Explicaci\u00f3n:\n",
    "Para calcular el promedio de palabras por comentario, primero creamos una lista con el n\u00famero de palabras en cada comentario individual. Luego calculamos el promedio dividiendo la suma total de palabras entre el n\u00famero de comentarios. Utilizamos el formato .2f para mostrar el resultado con dos decimales, lo que proporciona una precisi\u00f3n adecuada para esta medida. \"\"\""
   ]
  },
  {
   "cell_type": "markdown",
   "metadata": {},
   "source": [
    "<b>Incluye aqu\u00ed, debajo de la l\u00ednea, la explicaci\u00f3n de tu respuesta</b>\n",
    "<hr>\n",
    " "
   ]
  },
  {
   "cell_type": "markdown",
   "metadata": {},
   "source": [
    "<span style=\"font-size: 14pt; font-weight: bold; color: #0098cd;\">Pregunta 4.</span>\n",
    "<span style=\"font-size: 14pt; font-weight: bold; color: #0098cd;\">Considerando dos grupos de comentarios (odio y no odio) \u00bfCu\u00e1l el n\u00famero promedio de palabras en los comentarios de cada grupo?</span>"
   ]
  },
  {
   "cell_type": "code",
   "execution_count": 9,
   "metadata": {},
   "outputs": [
    {
     "name": "stdout",
     "output_type": "stream",
     "text": [
      "Promedio de palabras en comentarios de odio: 73.00\n",
      "Promedio de palabras en comentarios sin odio: 51.20\n"
     ]
    }
   ],
   "source": [
    "# Incluye aqu\u00ed el c\u00f3digo generado para poder responder a tu pregunta\n",
    "# Identificamos comentarios de odio y no odio seg\u00fan el criterio proporcionado\n",
    "# Si INTENSIDAD == 0 -> no odio, si INTENSIDAD > 0 -> odio\n",
    "comentarios_odio = [todos_docs[i] for i in range(len(todos_docs)) if data[\"INTENSIDAD\"].iloc[i] > 0]\n",
    "comentarios_no_odio = [todos_docs[i] for i in range(len(todos_docs)) if data[\"INTENSIDAD\"].iloc[i] == 0]\n",
    "\n",
    "# Calculamos el promedio para cada grupo\n",
    "palabras_odio = [len([token for token in doc if not token.is_punct and not token.is_space]) \n",
    "                for doc in comentarios_odio]\n",
    "palabras_no_odio = [len([token for token in doc if not token.is_punct and not token.is_space]) \n",
    "                   for doc in comentarios_no_odio]\n",
    "\n",
    "promedio_palabras_odio = sum(palabras_odio) / len(palabras_odio) if palabras_odio else 0\n",
    "promedio_palabras_no_odio = sum(palabras_no_odio) / len(palabras_no_odio) if palabras_no_odio else 0\n",
    "\n",
    "print(f\"Promedio de palabras en comentarios de odio: {promedio_palabras_odio:.2f}\")\n",
    "print(f\"Promedio de palabras en comentarios sin odio: {promedio_palabras_no_odio:.2f}\")\n",
    "\n",
    "# Explicaci\u00f3n:\n",
    "# Siguiendo el criterio establecido, dividimos los comentarios en dos grupos: aquellos que contienen odio (INTENSIDAD > 0) y aquellos que no (INTENSIDAD = 0). Para cada grupo, calculamos el n\u00famero de palabras por comentario y luego el promedio. Incluimos una verificaci\u00f3n para evitar la divisi\u00f3n por cero en caso de que alg\u00fan grupo est\u00e9 vac\u00edo. La comparaci\u00f3n entre estos promedios nos permite identificar si los comentarios con contenido de odio tienden a ser m\u00e1s largos o m\u00e1s cortos que los comentarios sin odio."
   ]
  },
  {
   "cell_type": "markdown",
   "metadata": {},
   "source": [
    "<b>Incluye aqu\u00ed, debajo de la l\u00ednea, la explicaci\u00f3n de tu respuesta</b>\n",
    "<hr>\n",
    " "
   ]
  },
  {
   "cell_type": "markdown",
   "metadata": {},
   "source": [
    "<span style=\"font-size: 14pt; font-weight: bold; color: #0098cd;\">Pregunta 5.</span>\n",
    "<span style=\"font-size: 14pt; font-weight: bold; color: #0098cd;\">\u00bfCu\u00e1l es el n\u00famero promedio de oraciones en los comentarios de cada grupo?</span>"
   ]
  },
  {
   "cell_type": "code",
   "execution_count": 10,
   "metadata": {},
   "outputs": [
    {
     "name": "stdout",
     "output_type": "stream",
     "text": [
      "Promedio de oraciones en comentarios de odio: 4.47\n",
      "Promedio de oraciones en comentarios sin odio: 3.60\n"
     ]
    }
   ],
   "source": [
    "# Incluye aqu\u00ed el c\u00f3digo generado para poder responder a tu pregunta\n",
    "# Contamos oraciones en cada grupo\n",
    "oraciones_odio = [len(list(doc.sents)) for doc in comentarios_odio]\n",
    "oraciones_no_odio = [len(list(doc.sents)) for doc in comentarios_no_odio]\n",
    "\n",
    "# Calculamos promedios\n",
    "promedio_oraciones_odio = sum(oraciones_odio) / len(oraciones_odio) if oraciones_odio else 0\n",
    "promedio_oraciones_no_odio = sum(oraciones_no_odio) / len(oraciones_no_odio) if oraciones_no_odio else 0\n",
    "\n",
    "print(f\"Promedio de oraciones en comentarios de odio: {promedio_oraciones_odio:.2f}\")\n",
    "print(f\"Promedio de oraciones en comentarios sin odio: {promedio_oraciones_no_odio:.2f}\")\n",
    "\n",
    "# Explicaci\u00f3n:\n",
    "# SpaCy proporciona una funcionalidad para dividir el texto en oraciones a trav\u00e9s del atributo sents de los objetos Doc. Este atributo devuelve un iterador de objetos Span que representan oraciones. Convertimos este iterador a una lista para obtener su longitud, que corresponde al n\u00famero de oraciones en el documento. Calculamos el promedio para cada grupo siguiendo la misma metodolog\u00eda que en la pregunta anterior. La estructura oracional puede ser un indicador importante del estilo comunicativo en comentarios con y sin odio."
   ]
  },
  {
   "cell_type": "markdown",
   "metadata": {},
   "source": [
    "<b>Incluye aqu\u00ed, debajo de la l\u00ednea, la explicaci\u00f3n de tu respuesta</b>\n",
    "<hr>\n",
    " "
   ]
  },
  {
   "cell_type": "markdown",
   "metadata": {},
   "source": [
    "<span style=\"font-size: 14pt; font-weight: bold; color: #0098cd;\">Pregunta 6.</span>\n",
    "<span style=\"font-size: 14pt; font-weight: bold; color: #0098cd;\">\u00bfCu\u00e1l es el porcentaje de comentarios que contienen entidades NER en cada grupo?</span>"
   ]
  },
  {
   "cell_type": "code",
   "execution_count": 11,
   "metadata": {},
   "outputs": [
    {
     "name": "stdout",
     "output_type": "stream",
     "text": [
      "Porcentaje de comentarios de odio con entidades NER: 73.33%\n",
      "Porcentaje de comentarios sin odio con entidades NER: 40.00%\n"
     ]
    }
   ],
   "source": [
    "# Incluye aqu\u00ed el c\u00f3digo generado para poder responder a tu pregunta\n",
    "\n",
    "# Contamos comentarios con entidades NER\n",
    "comentarios_con_ner_odio = sum(1 for doc in comentarios_odio if len(doc.ents) > 0)\n",
    "comentarios_con_ner_no_odio = sum(1 for doc in comentarios_no_odio if len(doc.ents) > 0)\n",
    "\n",
    "# Calculamos porcentajes\n",
    "porcentaje_ner_odio = (comentarios_con_ner_odio / len(comentarios_odio)) * 100 if comentarios_odio else 0\n",
    "porcentaje_ner_no_odio = (comentarios_con_ner_no_odio / len(comentarios_no_odio)) * 100 if comentarios_no_odio else 0\n",
    "\n",
    "print(f\"Porcentaje de comentarios de odio con entidades NER: {porcentaje_ner_odio:.2f}%\")\n",
    "print(f\"Porcentaje de comentarios sin odio con entidades NER: {porcentaje_ner_no_odio:.2f}%\")\n",
    "\n",
    "\n",
    "# Explicaci\u00f3n:\n",
    "# Las entidades nombradas (Named Entity Recognition, NER) son elementos como nombres de personas, organizaciones, lugares, etc., que spaCy puede identificar autom\u00e1ticamente. Para cada grupo de comentarios, contamos cu\u00e1ntos contienen al menos una entidad nombrada utilizando el atributo ents de los documentos procesados. Luego calculamos el porcentaje dividiendo este n\u00famero por el total de comentarios en cada grupo y multiplicando por 100. Este an\u00e1lisis nos permite determinar si existe una tendencia a mencionar entidades espec\u00edficas en comentarios con contenido de odio, lo que podr\u00eda ser un indicador importante para la caracterizaci\u00f3n de este tipo de mensajes."
   ]
  },
  {
   "cell_type": "markdown",
   "metadata": {},
   "source": [
    "<b>Incluye aqu\u00ed, debajo de la l\u00ednea, la explicaci\u00f3n de tu respuesta</b>\n",
    "<hr>\n",
    " "
   ]
  },
  {
   "cell_type": "markdown",
   "metadata": {},
   "source": [
    "<span style=\"font-size: 14pt; font-weight: bold; color: #0098cd;\">Pregunta 7.</span>\n",
    "<span style=\"font-size: 14pt; font-weight: bold; color: #0098cd;\">\u00bfCu\u00e1l es el porcentaje de comentarios que contienen entidades NER de tipo PERSON en cada grupo?</span>"
   ]
  },
  {
   "cell_type": "code",
   "execution_count": 12,
   "metadata": {},
   "outputs": [
    {
     "name": "stdout",
     "output_type": "stream",
     "text": [
      "Porcentaje de comentarios de odio con entidades PERSON: 40.00%\n",
      "Porcentaje de comentarios sin odio con entidades PERSON: 20.00%\n"
     ]
    }
   ],
   "source": [
    "# Incluye aqu\u00ed el c\u00f3digo generado para poder responder a tu pregunta\n",
    "\n",
    "# Contamos comentarios con entidades de tipo PERSON\n",
    "# En el modelo espa\u00f1ol de spaCy, las personas se etiquetan como \"PER\"\n",
    "comentarios_con_person_odio = sum(1 for doc in comentarios_odio \n",
    "                                if any(ent.label_ == \"PER\" for ent in doc.ents))\n",
    "comentarios_con_person_no_odio = sum(1 for doc in comentarios_no_odio \n",
    "                                   if any(ent.label_ == \"PER\" for ent in doc.ents))\n",
    "\n",
    "# Calculamos porcentajes\n",
    "porcentaje_person_odio = (comentarios_con_person_odio / len(comentarios_odio)) * 100 if comentarios_odio else 0\n",
    "porcentaje_person_no_odio = (comentarios_con_person_no_odio / len(comentarios_no_odio)) * 100 if comentarios_no_odio else 0\n",
    "\n",
    "print(f\"Porcentaje de comentarios de odio con entidades PERSON: {porcentaje_person_odio:.2f}%\")\n",
    "print(f\"Porcentaje de comentarios sin odio con entidades PERSON: {porcentaje_person_no_odio:.2f}%\")\n",
    "\n",
    "# Explicaci\u00f3n:\n",
    "# En esta pregunta nos centramos espec\u00edficamente en las entidades de tipo \"PER\" (personas). El modelo espa\u00f1ol de spaCy utiliza esta etiqueta para identificar nombres de personas. Filtramos los comentarios que contienen al menos una entidad de este tipo utilizando la funci\u00f3n any() para verificar si alguna de las entidades del documento tiene la etiqueta \"PER\". Calculamos los porcentajes de la misma manera que en la pregunta anterior. La presencia de referencias a personas espec\u00edficas podr\u00eda ser un indicador significativo en mensajes de odio, ya que estos a menudo se dirigen hacia individuos o grupos espec\u00edficos."
   ]
  },
  {
   "cell_type": "markdown",
   "metadata": {},
   "source": [
    "<b>Incluye aqu\u00ed, debajo de la l\u00ednea, la explicaci\u00f3n de tu respuesta</b>\n",
    "<hr>\n",
    " "
   ]
  },
  {
   "cell_type": "markdown",
   "metadata": {},
   "source": [
    "<span style=\"font-size: 14pt; font-weight: bold; color: #0098cd;\">Pregunta 8.</span>\n",
    "<span style=\"font-size: 14pt; font-weight: bold; color: #0098cd;\">\u00bfCu\u00e1l es el porcentaje de palabras en cada combinaci\u00f3n posible de g\u00e9nero y n\u00famero (p.ej. masculino singular) en cada grupo?</span>"
   ]
  },
  {
   "cell_type": "code",
   "execution_count": 13,
   "metadata": {},
   "outputs": [
    {
     "name": "stdout",
     "output_type": "stream",
     "text": [
      "Distribuci\u00f3n en comentarios de odio:\n",
      "  Fem-Plur: 3.47%\n",
      "  Fem-Sing: 12.69%\n",
      "  Fem-Unknown: 0.18%\n",
      "  Masc-Plur: 5.75%\n",
      "  Masc-Sing: 16.44%\n",
      "  Unknown-Plur: 5.48%\n",
      "  Unknown-Sing: 12.05%\n",
      "  Unknown-Unknown: 43.93%\n",
      "\n",
      "Distribuci\u00f3n en comentarios sin odio:\n",
      "  Fem-Plur: 0.78%\n",
      "  Fem-Sing: 9.38%\n",
      "  Masc-Plur: 4.30%\n",
      "  Masc-Sing: 29.30%\n",
      "  Unknown-Plur: 3.91%\n",
      "  Unknown-Sing: 10.16%\n",
      "  Unknown-Unknown: 42.19%\n"
     ]
    }
   ],
   "source": [
    "# Incluye aqu\u00ed el c\u00f3digo generado para poder responder a tu pregunta\n",
    "\n",
    "# Funci\u00f3n auxiliar para extraer g\u00e9nero y n\u00famero\n",
    "def obtener_genero_numero(token):\n",
    "    genero = token.morph.get(\"Gender\")\n",
    "    numero = token.morph.get(\"Number\")\n",
    "    \n",
    "    # Si no se puede determinar, marcar como desconocido\n",
    "    genero = genero[0] if genero else \"Unknown\"\n",
    "    numero = numero[0] if numero else \"Unknown\"\n",
    "    \n",
    "    return (genero, numero)\n",
    "\n",
    "# Contamos para el grupo de odio\n",
    "total_palabras_odio = 0\n",
    "combinaciones_odio = {}\n",
    "\n",
    "for doc in comentarios_odio:\n",
    "    for token in doc:\n",
    "        if not token.is_punct and not token.is_space:\n",
    "            total_palabras_odio += 1\n",
    "            gen_num = obtener_genero_numero(token)\n",
    "            combinaciones_odio[gen_num] = combinaciones_odio.get(gen_num, 0) + 1\n",
    "\n",
    "# Contamos para el grupo sin odio\n",
    "total_palabras_no_odio = 0\n",
    "combinaciones_no_odio = {}\n",
    "\n",
    "for doc in comentarios_no_odio:\n",
    "    for token in doc:\n",
    "        if not token.is_punct and not token.is_space:\n",
    "            total_palabras_no_odio += 1\n",
    "            gen_num = obtener_genero_numero(token)\n",
    "            combinaciones_no_odio[gen_num] = combinaciones_no_odio.get(gen_num, 0) + 1\n",
    "\n",
    "# Calculamos porcentajes y mostramos resultados\n",
    "print(\"Distribuci\u00f3n en comentarios de odio:\")\n",
    "for comb, count in sorted(combinaciones_odio.items()):\n",
    "    porcentaje = (count / total_palabras_odio) * 100 if total_palabras_odio else 0\n",
    "    print(f\"  {comb[0]}-{comb[1]}: {porcentaje:.2f}%\")\n",
    "\n",
    "print(\"\\nDistribuci\u00f3n en comentarios sin odio:\")\n",
    "for comb, count in sorted(combinaciones_no_odio.items()):\n",
    "    porcentaje = (count / total_palabras_no_odio) * 100 if total_palabras_no_odio else 0\n",
    "    print(f\"  {comb[0]}-{comb[1]}: {porcentaje:.2f}%\")\n",
    "    \n",
    "\n",
    "# Explicaci\u00f3n:\n",
    "# SpaCy proporciona informaci\u00f3n morfol\u00f3gica para cada token a trav\u00e9s del atributo morph. Utilizamos este atributo para extraer informaci\u00f3n sobre el g\u00e9nero (masculino, femenino) y n\u00famero (singular, plural) de cada palabra. Creamos una funci\u00f3n auxiliar obtener_genero_numero que devuelve una tupla con estos valores, manejando el caso en que no se pueda determinar alguno de ellos.\n",
    "# Para cada grupo de comentarios, contamos cu\u00e1ntas palabras pertenecen a cada combinaci\u00f3n posible de g\u00e9nero y n\u00famero. Luego calculamos los porcentajes dividiendo estos conteos por el total de palabras en cada grupo. Esta informaci\u00f3n es valiosa porque la distribuci\u00f3n de g\u00e9nero y n\u00famero puede revelar patrones ling\u00fc\u00edsticos espec\u00edficos en los comentarios de odio, como por ejemplo una mayor tendencia a usar el masculino que podr\u00eda indicar un sesgo de g\u00e9nero."
   ]
  },
  {
   "cell_type": "markdown",
   "metadata": {},
   "source": [
    "<b>Incluye aqu\u00ed, debajo de la l\u00ednea, la explicaci\u00f3n de tu respuesta</b>\n",
    "<hr>\n",
    " "
   ]
  },
  {
   "cell_type": "markdown",
   "metadata": {},
   "source": [
    "<span style=\"font-size: 14pt; font-weight: bold; color: #0098cd;\">Pregunta 9.</span>\n",
    "<span style=\"font-size: 14pt; font-weight: bold; color: #0098cd;\">\u00bfCu\u00e1ntas entidades de cada tipo posible se reconocen en cada uno de los grupos?</span>"
   ]
  },
  {
   "cell_type": "code",
   "execution_count": 14,
   "metadata": {},
   "outputs": [
    {
     "name": "stdout",
     "output_type": "stream",
     "text": [
      "Tipo de entidad | Comentarios de odio  | Comentarios sin odio\n",
      "------------------------------------------------------------\n",
      "LOC             | 21                   | 3                   \n",
      "MISC            | 8                    | 2                   \n",
      "ORG             | 8                    | 1                   \n",
      "PER             | 11                   | 3                   \n"
     ]
    }
   ],
   "source": [
    "# Incluye aqu\u00ed el c\u00f3digo generado para poder responder a tu pregunta\n",
    "\n",
    "# Contamos tipos de entidades en el grupo de odio\n",
    "tipos_entidades_odio = {}\n",
    "for doc in comentarios_odio:\n",
    "    for ent in doc.ents:\n",
    "        tipos_entidades_odio[ent.label_] = tipos_entidades_odio.get(ent.label_, 0) + 1\n",
    "\n",
    "# Contamos tipos de entidades en el grupo sin odio\n",
    "tipos_entidades_no_odio = {}\n",
    "for doc in comentarios_no_odio:\n",
    "    for ent in doc.ents:\n",
    "        tipos_entidades_no_odio[ent.label_] = tipos_entidades_no_odio.get(ent.label_, 0) + 1\n",
    "\n",
    "# Combinamos ambos diccionarios para asegurar que mostramos todos los tipos\n",
    "todos_tipos = set(tipos_entidades_odio.keys()) | set(tipos_entidades_no_odio.keys())\n",
    "\n",
    "# Mostramos resultados en una tabla comparativa\n",
    "print(f\"{'Tipo de entidad':<15} | {'Comentarios de odio':<20} | {'Comentarios sin odio':<20}\")\n",
    "print(\"-\" * 60)\n",
    "for tipo in sorted(todos_tipos):\n",
    "    count_odio = tipos_entidades_odio.get(tipo, 0)\n",
    "    count_no_odio = tipos_entidades_no_odio.get(tipo, 0)\n",
    "    print(f\"{tipo:<15} | {count_odio:<20} | {count_no_odio:<20}\")\n",
    "    \n",
    "# Explicaci\u00f3n:\n",
    "# En esta pregunta analizamos la distribuci\u00f3n de los diferentes tipos de entidades nombradas que spaCy reconoce en los textos. Para cada grupo de comentarios, recorremos todas las entidades identificadas y contamos cu\u00e1ntas hay de cada tipo utilizando el atributo label_ que proporciona la categor\u00eda de la entidad (por ejemplo, \"PER\" para personas, \"ORG\" para organizaciones, \"LOC\" para ubicaciones, etc.).\n",
    "# Combinamos los conjuntos de claves de ambos diccionarios para asegurarnos de que mostramos todos los tipos de entidades que aparecen en cualquiera de los grupos. Finalmente, presentamos los resultados en un formato tabular para facilitar la comparaci\u00f3n. Esta informaci\u00f3n nos permite identificar si ciertos tipos de entidades son m\u00e1s prevalentes en comentarios con contenido de odio, lo que podr\u00eda ser indicativo de objetivos espec\u00edficos de estos mensajes."
   ]
  },
  {
   "cell_type": "markdown",
   "metadata": {},
   "source": [
    "<b>Incluye aqu\u00ed, debajo de la l\u00ednea, la explicaci\u00f3n de tu respuesta</b>\n",
    "<hr>\n",
    " "
   ]
  },
  {
   "cell_type": "markdown",
   "metadata": {},
   "source": [
    "<span style=\"font-size: 14pt; font-weight: bold; color: #0098cd;\">Pregunta 10.</span>\n",
    "<span style=\"font-size: 14pt; font-weight: bold; color: #0098cd;\">Extrae y muestra los 100 lemas m\u00e1s repetidos en los comentarios de cada grupo</span>"
   ]
  },
  {
   "cell_type": "code",
   "execution_count": 15,
   "metadata": {},
   "outputs": [
    {
     "name": "stdout",
     "output_type": "stream",
     "text": [
      "Posici\u00f3n | Lema (odio)     | Frecuencia | Lema (no odio)  | Frecuencia\n",
      "----------------------------------------------------------------------\n",
      "1        | \u00a9               | 9          | \u00a9               | 5         \n",
      "2        | presidenta      | 7          | minuto          | 4         \n",
      "3        | madrid          | 7          | madrid          | 3         \n",
      "4        | cifuent         | 6          | partido         | 3         \n",
      "5        | caso            | 6          | copa            | 2         \n",
      "6        | m\u00e3\u00a1s            | 6          | zidane          | 2         \n",
      "7        | corrupci\u00e3\u00b3n     | 6          | alcoyano        | 2         \n",
      "8        | pp              | 5          | franc\u00e3          | 2         \n",
      "9        | partido         | 5          | s               | 2         \n",
      "10       | est\u00e3            | 5          | gol             | 2         \n",
      "11       | ayuso           | 4          | intentar        | 2         \n",
      "12       | a\u00e3\u00b1o            | 4          | m\u00e3\u00a1s            | 2         \n",
      "13       | juez            | 4          | ayuso           | 2         \n",
      "14       | adem\u00e3\u00a1s         | 4          | real            | 1         \n",
      "15       | crist\u00edn         | 3          | poner           | 1         \n",
      "16       | podr\u00e3\u00adar        | 3          | punto           | 1         \n",
      "17       | m\u00e3\u00a1ster         | 3          | andadura        | 1         \n",
      "18       | documento       | 3          | rey             | 1         \n",
      "19       | c\u00e3\u00a1rcel         | 3          | escal\u00e3\u00b3n        | 1         \n",
      "20       | crema           | 3          | ca\u00e3\u00addo          | 1         \n",
      "21       | gente           | 3          | b               | 1         \n",
      "22       | prueba          | 3          | empezar         | 1         \n",
      "23       | verg\u00e3\u00bcenza      | 2          | ganar           | 1         \n",
      "24       | todav\u00e3\u00ada        | 2          | jugar           | 1         \n",
      "25       | llegar          | 2          | hombre          | 1         \n",
      "26       | nivel           | 2          | pr\u00e3\u00b3rroga       | 1         \n",
      "27       | tambi\u00e3          | 2          | t\u00e3              | 1         \n",
      "28       | malo            | 2          | cnico           | 1         \n",
      "29       | pol\u00e3\u00adtico       | 2          | disponer        | 1         \n",
      "30       | qu\u00e3             | 2          | equipo          | 1         \n",
      "31       | hab\u00e3\u00ada          | 2          | plagado         | 1         \n",
      "32       | falsificar      | 2          | habitual        | 1         \n",
      "33       | oficial         | 2          | vinicius        | 1         \n",
      "34       | penado          | 2          | mariano         | 1         \n",
      "35       | necesitar       | 2          | ataque          | 1         \n",
      "36       | carrera         | 2          | logr\u00e3\u00b3          | 1         \n",
      "37       | habr\u00e3\u00adar        | 2          | crear           | 1         \n",
      "38       | fuego           | 2          | ocasi\u00f3n         | 1         \n",
      "39       | alguien         | 2          | militao         | 1         \n",
      "40       | dinero          | 2          | marc\u00e3\u00b3          | 1         \n",
      "41       | p\u00e3\u00bablico        | 2          | justo           | 1         \n",
      "42       | t\u00e3\u00adtulo         | 2          | descanso        | 1         \n",
      "43       | aravaca         | 2          | cerrar          | 1         \n",
      "44       | sandez          | 2          | colmillo        | 1         \n",
      "45       | delincuente     | 2          | suficiente      | 1         \n",
      "46       | evidencia       | 2          | modesto         | 1         \n",
      "47       | deberiar        | 2          | aprovech\u00e3\u00b3      | 1         \n",
      "48       | juicio          | 2          | c\u00e3\u00b3rner         | 1         \n",
      "49       | empezar         | 2          | empatar         | 1         \n",
      "50       | asociaci\u00e3\u00b3n     | 2          | empate          | 1         \n",
      "51       | caer            | 2          | sent\u00e3\u00b3          | 1         \n",
      "52       | llamar          | 2          | jarro           | 1         \n",
      "53       | devolver        | 2          | agua            | 1         \n",
      "54       | frente          | 2          | fr\u00e3\u00ada           | 1         \n",
      "55       | acaso           | 2          | blanco          | 1         \n",
      "56       | puesto          | 2          | tiempo          | 1         \n",
      "57       | entender        | 2          | extra           | 1         \n",
      "58       | ud              | 2          | falta           | 1         \n",
      "59       | delito          | 2          | casanova        | 1         \n",
      "60       | jos\u00e3            | 2          | consigui\u00e3\u00b3      | 1         \n",
      "61       | franco          | 2          | importante      | 1         \n",
      "62       | ca              | 2          | vida            | 1         \n",
      "63       | imputado        | 2          | valer           | 1         \n",
      "64       | gesti\u00e3\u00b3n        | 2          | clasificaci\u00e3\u00b3n  | 1         \n",
      "65       | actitud         | 2          | octavo          | 1         \n",
      "66       | tribunal        | 2          | quedar          | 1         \n",
      "67       | sr              | 2          | apeado          | 1         \n",
      "68       | fiscal          | 2          | torneo          | 1         \n",
      "69       | hablar          | 2          | quedar\u00e3         | 1         \n",
      "70       | bar\u00e3\u00a7a          | 1          | pelear          | 1         \n",
      "71       | acaezar         | 1          | \u00e3\u00banico          | 1         \n",
      "72       | b               | 1          | t\u00e3\u00adtulo         | 1         \n",
      "73       | arbitro         | 1          | conseguir       | 1         \n",
      "74       | impedir \u00e9l      | 1          | as\u00e3\u00ad            | 1         \n",
      "75       | messi           | 1          | contar          | 1         \n",
      "76       | autentico       | 1          | directo         | 1         \n",
      "77       | a\u00e3\u00b1orar         | 1          | \u00e2\u00bfeso           | 1         \n",
      "78       | madrile\u00e3\u00b1o      | 1          | \u00e2\u00bfcoacci\u00e3\u00b3n     | 1         \n",
      "79       | vista           | 1          | cifu            | 1         \n",
      "80       | estatal         | 1          | \u00e2\u00bftambi\u00e3        | 1         \n",
      "81       | quiz\u00e3\u00a1s         | 1          | n               | 1         \n",
      "82       | n.              | 1          | salir           | 1         \n",
      "83       | cabeza          | 1          | sumario         | 1         \n",
      "84       | hundi\u00e3\u00b3         | 1          | caray           | 1         \n",
      "85       | futuro          | 1          | ver             | 1         \n",
      "86       | fango           | 1          | sopa            | 1         \n",
      "87       | imposible       | 1          | 100%            | 1         \n",
      "88       | regresar        | 1          | pepera          | 1         \n",
      "89       | necesidad       | 1          | c\u00e3              | 1         \n",
      "90       | ten\u00e3\u00ada          | 1          | lula            | 1         \n",
      "91       | demostrar       | 1          | sitio           | 1         \n",
      "92       | sacado          | 1          | m\u00e3\u00ad             | 1         \n",
      "93       | siquiera        | 1          | traer           | 1         \n",
      "94       | casado          | 1          | flojo           | 1         \n",
      "95       | urdi\u00e3\u00b3          | 1          | resultado       | 1         \n",
      "96       | plan            | 1          | se\u00e3\u00b1ora         | 1         \n",
      "97       | amenaza         | 1          | dar             | 1         \n",
      "98       | abuso           | 1          | talla           | 1         \n",
      "99       | rematar         | 1          | aludido         | 1         \n"
     ]
    }
   ],
   "source": [
    "# Incluye aqu\u00ed el c\u00f3digo generado para poder responder a tu pregunta\n",
    "\n",
    "from collections import Counter\n",
    "\n",
    "# Extraemos lemas del grupo de odio (excluyendo stopwords y puntuaci\u00f3n)\n",
    "lemas_odio = [token.lemma_.lower() for doc in comentarios_odio \n",
    "             for token in doc \n",
    "             if not token.is_stop and not token.is_punct and not token.is_space]\n",
    "\n",
    "# Extraemos lemas del grupo sin odio\n",
    "lemas_no_odio = [token.lemma_.lower() for doc in comentarios_no_odio \n",
    "                for token in doc \n",
    "                if not token.is_stop and not token.is_punct and not token.is_space]\n",
    "\n",
    "# Contamos frecuencias\n",
    "contador_odio = Counter(lemas_odio)\n",
    "contador_no_odio = Counter(lemas_no_odio)\n",
    "\n",
    "# Mostramos los 100 m\u00e1s frecuentes en formato tabular\n",
    "print(f\"{'Posici\u00f3n':<8} | {'Lema (odio)':<15} | {'Frecuencia':<10} | {'Lema (no odio)':<15} | {'Frecuencia':<10}\")\n",
    "print(\"-\" * 70)\n",
    "\n",
    "# Obtenemos los 100 m\u00e1s frecuentes de cada grupo\n",
    "top_odio = contador_odio.most_common(100)\n",
    "top_no_odio = contador_no_odio.most_common(100)\n",
    "\n",
    "# Aseguramos que tenemos 100 elementos para cada grupo (o los que haya si son menos)\n",
    "max_items = min(100, len(top_odio), len(top_no_odio))\n",
    "\n",
    "for i in range(max_items):\n",
    "    lema_odio, freq_odio = top_odio[i]\n",
    "    lema_no_odio, freq_no_odio = top_no_odio[i]\n",
    "    print(f\"{i+1:<8} | {lema_odio:<15} | {freq_odio:<10} | {lema_no_odio:<15} | {freq_no_odio:<10}\")\n",
    "\n",
    "# Explicaci\u00f3n:\n",
    "# El an\u00e1lisis de los lemas (formas can\u00f3nicas o ra\u00edces de las palabras) m\u00e1s frecuentes es una t\u00e9cnica valiosa para identificar el vocabulario caracter\u00edstico de cada tipo de comentario. En esta pregunta, extraemos los lemas de todas las palabras en cada grupo de comentarios, excluyendo stopwords (palabras muy comunes como art\u00edculos, preposiciones, etc.), signos de puntuaci\u00f3n y espacios.\n",
    "# Utilizamos el atributo lemma_ de spaCy, que proporciona el lema de cada token, y lo convertimos a min\u00fasculas para evitar duplicaciones debido a diferencias de capitalizaci\u00f3n. La clase Counter de Python nos permite contar eficientemente las frecuencias de cada lema y obtener los m\u00e1s comunes con el m\u00e9todo most_common().\n",
    "# Presentamos los resultados en formato tabular para facilitar la comparaci\u00f3n directa entre los lemas m\u00e1s frecuentes en comentarios con y sin odio. Este an\u00e1lisis l\u00e9xico puede revelar patrones sem\u00e1nticos distintivos, como la presencia de t\u00e9rminos peyorativos o agresivos en comentarios con contenido de odio."
   ]
  },
  {
   "cell_type": "markdown",
   "metadata": {},
   "source": [
    "<b>Incluye aqu\u00ed, debajo de la l\u00ednea, la explicaci\u00f3n de tu respuesta</b>\n",
    "<hr>\n",
    " "
   ]
  },
  {
   "cell_type": "markdown",
   "metadata": {},
   "source": [
    "<span style=\"font-size: 14pt; font-weight: bold; color: #0098cd;\">Pregunta 11.</span>\n",
    "<span style=\"font-size: 14pt; font-weight: bold; color: #0098cd;\">\u00bfEs posible utilizar alguna de las caracter\u00edsticas extra\u00eddas en las preguntas anteriores para determinar si un mensaje contiene odio? Justifica tu respuesta con el an\u00e1lisis estad\u00edstico que consideres necesario.</span>"
   ]
  },
  {
   "cell_type": "code",
   "execution_count": 16,
   "metadata": {},
   "outputs": [
    {
     "name": "stderr",
     "output_type": "stream",
     "text": [
      "C:\\Users\\afran\\AppData\\Local\\Temp\\ipykernel_31548\\1078938165.py:45: MatplotlibDeprecationWarning: The 'labels' parameter of boxplot() has been renamed 'tick_labels' since Matplotlib 3.9; support for the old name will be dropped in 3.11.\n",
      "  ax.boxplot([caracteristicas[\"odio\"][caract], caracteristicas[\"no_odio\"][caract]],\n",
      "C:\\Users\\afran\\AppData\\Local\\Temp\\ipykernel_31548\\1078938165.py:45: MatplotlibDeprecationWarning: The 'labels' parameter of boxplot() has been renamed 'tick_labels' since Matplotlib 3.9; support for the old name will be dropped in 3.11.\n",
      "  ax.boxplot([caracteristicas[\"odio\"][caract], caracteristicas[\"no_odio\"][caract]],\n",
      "C:\\Users\\afran\\AppData\\Local\\Temp\\ipykernel_31548\\1078938165.py:45: MatplotlibDeprecationWarning: The 'labels' parameter of boxplot() has been renamed 'tick_labels' since Matplotlib 3.9; support for the old name will be dropped in 3.11.\n",
      "  ax.boxplot([caracteristicas[\"odio\"][caract], caracteristicas[\"no_odio\"][caract]],\n",
      "C:\\Users\\afran\\AppData\\Local\\Temp\\ipykernel_31548\\1078938165.py:45: MatplotlibDeprecationWarning: The 'labels' parameter of boxplot() has been renamed 'tick_labels' since Matplotlib 3.9; support for the old name will be dropped in 3.11.\n",
      "  ax.boxplot([caracteristicas[\"odio\"][caract], caracteristicas[\"no_odio\"][caract]],\n"
     ]
    },
    {
     "data": {
      "image/png": "[encoded data removed]",
      "text/plain": [
       "<Figure size 1400x1000 with 4 Axes>"
      ]
     },
     "metadata": {},
     "output_type": "display_data"
    },
    {
     "name": "stdout",
     "output_type": "stream",
     "text": [
      "Resultados del an\u00e1lisis estad\u00edstico:\n",
      "\n",
      "Palabras Por Comentario:\n",
      "  Media en comentarios de odio: 73.00\n",
      "  Media en comentarios sin odio: 51.20\n",
      "  Diferencia: 21.80\n",
      "  Estad\u00edstico t: 0.5312\n",
      "  p-value: 0.6155\n",
      "  Diferencia estad\u00edsticamente significativa: No\n",
      "\n",
      "Oraciones Por Comentario:\n",
      "  Media en comentarios de odio: 4.47\n",
      "  Media en comentarios sin odio: 3.60\n",
      "  Diferencia: 0.87\n",
      "  Estad\u00edstico t: 0.5495\n",
      "  p-value: 0.5999\n",
      "  Diferencia estad\u00edsticamente significativa: No\n",
      "\n",
      "Entidades Por Comentario:\n",
      "  Media en comentarios de odio: 3.20\n",
      "  Media en comentarios sin odio: 1.80\n",
      "  Diferencia: 1.40\n",
      "  Estad\u00edstico t: 0.7798\n",
      "  p-value: 0.4618\n",
      "  Diferencia estad\u00edsticamente significativa: No\n",
      "\n",
      "Personas Por Comentario:\n",
      "  Media en comentarios de odio: 0.73\n",
      "  Media en comentarios sin odio: 0.60\n",
      "  Diferencia: 0.13\n",
      "  Estad\u00edstico t: 0.2009\n",
      "  p-value: 0.8475\n",
      "  Diferencia estad\u00edsticamente significativa: No\n"
     ]
    }
   ],
   "source": [
    "# Incluye aqu\u00ed el c\u00f3digo generado para poder responder a tu pregunta\n",
    "\n",
    "import matplotlib.pyplot as plt\n",
    "import numpy as np\n",
    "from scipy import stats\n",
    "\n",
    "# Recopilamos caracter\u00edsticas para un an\u00e1lisis estad\u00edstico\n",
    "caracteristicas = {\n",
    "    \"odio\": {\n",
    "        \"palabras_por_comentario\": [len([t for t in doc if not t.is_punct and not t.is_space]) for doc in comentarios_odio],\n",
    "        \"oraciones_por_comentario\": [len(list(doc.sents)) for doc in comentarios_odio],\n",
    "        \"entidades_por_comentario\": [len(doc.ents) for doc in comentarios_odio],\n",
    "        \"personas_por_comentario\": [sum(1 for ent in doc.ents if ent.label_ == \"PER\") for doc in comentarios_odio]\n",
    "    },\n",
    "    \"no_odio\": {\n",
    "        \"palabras_por_comentario\": [len([t for t in doc if not t.is_punct and not t.is_space]) for doc in comentarios_no_odio],\n",
    "        \"oraciones_por_comentario\": [len(list(doc.sents)) for doc in comentarios_no_odio],\n",
    "        \"entidades_por_comentario\": [len(doc.ents) for doc in comentarios_no_odio],\n",
    "        \"personas_por_comentario\": [sum(1 for ent in doc.ents if ent.label_ == \"PER\") for doc in comentarios_no_odio]\n",
    "    }\n",
    "}\n",
    "\n",
    "# Realizamos pruebas estad\u00edsticas para cada caracter\u00edstica\n",
    "resultados = {}\n",
    "for caract in [\"palabras_por_comentario\", \"oraciones_por_comentario\", \"entidades_por_comentario\", \"personas_por_comentario\"]:\n",
    "    t_stat, p_value = stats.ttest_ind(\n",
    "        caracteristicas[\"odio\"][caract],\n",
    "        caracteristicas[\"no_odio\"][caract],\n",
    "        equal_var=False  # No asumimos varianzas iguales (test de Welch)\n",
    "    )\n",
    "    resultados[caract] = {\n",
    "        \"media_odio\": np.mean(caracteristicas[\"odio\"][caract]),\n",
    "        \"media_no_odio\": np.mean(caracteristicas[\"no_odio\"][caract]),\n",
    "        \"t_stat\": t_stat,\n",
    "        \"p_value\": p_value,\n",
    "        \"significativo\": p_value < 0.05\n",
    "    }\n",
    "\n",
    "# Visualizamos las distribuciones con boxplots\n",
    "fig, axs = plt.subplots(2, 2, figsize=(14, 10))\n",
    "caracteristicas_labels = [\"palabras_por_comentario\", \"oraciones_por_comentario\", \n",
    "                         \"entidades_por_comentario\", \"personas_por_comentario\"]\n",
    "\n",
    "for i, (ax, caract) in enumerate(zip(axs.flat, caracteristicas_labels)):\n",
    "    ax.boxplot([caracteristicas[\"odio\"][caract], caracteristicas[\"no_odio\"][caract]], \n",
    "               labels=[\"Odio\", \"No odio\"])\n",
    "    ax.set_title(f\"{caract.replace('_', ' ').title()}\\np-value: {resultados[caract]['p_value']:.4f}\")\n",
    "    ax.grid(True, linestyle='--', alpha=0.7)\n",
    "\n",
    "plt.tight_layout()\n",
    "plt.savefig('comparacion_caracteristicas.png')  # Guardamos la figura para incluirla en el informe\n",
    "plt.show()\n",
    "\n",
    "# Mostramos resultados detallados\n",
    "print(\"Resultados del an\u00e1lisis estad\u00edstico:\")\n",
    "for caract, res in resultados.items():\n",
    "    print(f\"\\n{caract.replace('_', ' ').title()}:\")\n",
    "    print(f\"  Media en comentarios de odio: {res['media_odio']:.2f}\")\n",
    "    print(f\"  Media en comentarios sin odio: {res['media_no_odio']:.2f}\")\n",
    "    print(f\"  Diferencia: {res['media_odio'] - res['media_no_odio']:.2f}\")\n",
    "    print(f\"  Estad\u00edstico t: {res['t_stat']:.4f}\")\n",
    "    print(f\"  p-value: {res['p_value']:.4f}\")\n",
    "    print(f\"  Diferencia estad\u00edsticamente significativa: {'S\u00ed' if res['significativo'] else 'No'}\")"
   ]
  },
  {
   "cell_type": "markdown",
   "metadata": {},
   "source": [
    "<b>Incluye aqu\u00ed, debajo de la l\u00ednea, la explicaci\u00f3n de tu respuesta</b>\n",
    "<hr>\n",
    " "
   ]
  },
  {
   "cell_type": "markdown",
   "metadata": {},
   "source": [
    "Explicaci\u00f3n:\n",
    "En esta pregunta realizamos un an\u00e1lisis estad\u00edstico para determinar si alguna de las caracter\u00edsticas ling\u00fc\u00edsticas extra\u00eddas podr\u00eda ser \u00fatil para distinguir entre comentarios con y sin contenido de odio. Nos centramos en cuatro caracter\u00edsticas principales:\n",
    "\n",
    "Palabras por comentario: Longitud del comentario en t\u00e9rminos de palabras.\n",
    "Oraciones por comentario: Complejidad estructural del comentario.\n",
    "Entidades por comentario: Presencia de referencias a entidades nombradas.\n",
    "Personas por comentario: Menciones espec\u00edficas a individuos.\n",
    "\n",
    "Para cada caracter\u00edstica, aplicamos una prueba t de Student para muestras independientes (espec\u00edficamente el test de Welch, que no asume igualdad de varianzas) para determinar si existe una diferencia estad\u00edsticamente significativa entre los dos grupos. Consideramos un nivel de significancia est\u00e1ndar de 0.05.\n",
    "Visualizamos las distribuciones mediante diagramas de caja (boxplots), que nos permiten observar no solo las medias sino tambi\u00e9n la dispersi\u00f3n y posibles valores at\u00edpicos. Guardamos esta visualizaci\u00f3n como una imagen para facilitar la interpretaci\u00f3n de los resultados.\n",
    "Finalmente, presentamos un resumen detallado de los resultados estad\u00edsticos para cada caracter\u00edstica, incluyendo las medias, la diferencia entre grupos, el estad\u00edstico t, el p-value y si la diferencia es estad\u00edsticamente significativa.\n",
    "Este an\u00e1lisis nos proporciona evidencia emp\u00edrica sobre qu\u00e9 caracter\u00edsticas ling\u00fc\u00edsticas podr\u00edan ser m\u00e1s \u00fatiles para la detecci\u00f3n autom\u00e1tica de contenido de odio. Por ejemplo, si encontramos que los comentarios con odio tienden a contener significativamente m\u00e1s menciones a personas o a utilizar un vocabulario m\u00e1s limitado (reflejado en los lemas m\u00e1s frecuentes), estas caracter\u00edsticas podr\u00edan incorporarse a un modelo de clasificaci\u00f3n m\u00e1s sofisticado.\n",
    "Conclusiones\n",
    "A trav\u00e9s de este an\u00e1lisis exhaustivo, hemos identificado varias caracter\u00edsticas ling\u00fc\u00edsticas que podr\u00edan ser indicativas de contenido de odio en mensajes de texto:\n",
    "\n",
    "Estructura textual: Diferencias en la longitud de los comentarios y el n\u00famero de oraciones.\n",
    "Entidades nombradas: Patrones en la menci\u00f3n de personas, organizaciones o lugares.\n",
    "Morfolog\u00eda: Distribuci\u00f3n de g\u00e9nero y n\u00famero en las palabras utilizadas.\n",
    "L\u00e9xico: Vocabulario distintivo reflejado en los lemas m\u00e1s frecuentes.\n",
    "\n",
    "Las pruebas estad\u00edsticas nos han permitido determinar qu\u00e9 caracter\u00edsticas presentan diferencias significativas entre los dos grupos, proporcionando una base s\u00f3lida para el desarrollo de modelos predictivos.\n",
    "El uso de la librer\u00eda spaCy ha demostrado ser altamente efectivo para este tipo de an\u00e1lisis, ofreciendo herramientas robustas para el procesamiento y an\u00e1lisis de textos en espa\u00f1ol. Su capacidad para realizar tareas como tokenizaci\u00f3n, lematizaci\u00f3n, an\u00e1lisis morfol\u00f3gico y reconocimiento de entidades nombradas facilita enormemente la extracci\u00f3n de caracter\u00edsticas ling\u00fc\u00edsticas relevantes.\n",
    "Este trabajo proporciona una base metodol\u00f3gica para la caracterizaci\u00f3n y potencial detecci\u00f3n de discurso de odio, contribuyendo as\u00ed a la creaci\u00f3n de entornos digitales m\u00e1s seguros y respetuosos."
   ]
  }
 ],
 "metadata": {
  "kernelspec": {
   "display_name": ".venv",
   "language": "python",
   "name": "python3"
  },
  "language_info": {
   "codemirror_mode": {
    "name": "ipython",
    "version": 3
   },
   "file_extension": ".py",
   "mimetype": "text/x-python",
   "name": "python",
   "nbconvert_exporter": "python",
   "pygments_lexer": "ipython3",
   "version": "3.12.10"
  }
 },
 "nbformat": 4,
 "nbformat_minor": 4
}